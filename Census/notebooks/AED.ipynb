{
 "cells": [
  {
   "cell_type": "markdown",
   "id": "4385b7db-a274-4007-89ea-8bdb5ae81b2e",
   "metadata": {},
   "source": [
    "## Análise exploratória dos Dados"
   ]
  },
  {
   "cell_type": "code",
   "execution_count": 1,
   "id": "64dee554-5713-423a-8fee-8818029db93a",
   "metadata": {},
   "outputs": [],
   "source": [
    "import plotly.express as px\n",
    "import pandas as pd \n",
    "import matplotlib.pyplot as plt"
   ]
  },
  {
   "cell_type": "markdown",
   "id": "9bb05f44-bc59-4307-ba5f-24b2e1bb3fbd",
   "metadata": {},
   "source": [
    "O objetivo é usarmos as técnicas de classificação para determinar se uma pessoa irá ganhar mais do que 50 mil ou não, esse dataset é o Census."
   ]
  },
  {
   "cell_type": "code",
   "execution_count": 2,
   "id": "5ea3f66d-4775-4612-9293-1fbb273bbfc4",
   "metadata": {},
   "outputs": [],
   "source": [
    "data = pd.read_csv('../data/census.csv')"
   ]
  },
  {
   "cell_type": "code",
   "execution_count": 3,
   "id": "70a4efac-4fab-4981-8381-120e0f193e9b",
   "metadata": {
    "scrolled": true
   },
   "outputs": [
    {
     "data": {
      "text/html": [
       "<div>\n",
       "<style scoped>\n",
       "    .dataframe tbody tr th:only-of-type {\n",
       "        vertical-align: middle;\n",
       "    }\n",
       "\n",
       "    .dataframe tbody tr th {\n",
       "        vertical-align: top;\n",
       "    }\n",
       "\n",
       "    .dataframe thead th {\n",
       "        text-align: right;\n",
       "    }\n",
       "</style>\n",
       "<table border=\"1\" class=\"dataframe\">\n",
       "  <thead>\n",
       "    <tr style=\"text-align: right;\">\n",
       "      <th></th>\n",
       "      <th>age</th>\n",
       "      <th>workclass</th>\n",
       "      <th>final-weight</th>\n",
       "      <th>education</th>\n",
       "      <th>education-num</th>\n",
       "      <th>marital-status</th>\n",
       "      <th>occupation</th>\n",
       "      <th>relationship</th>\n",
       "      <th>race</th>\n",
       "      <th>sex</th>\n",
       "      <th>capital-gain</th>\n",
       "      <th>capital-loos</th>\n",
       "      <th>hour-per-week</th>\n",
       "      <th>native-country</th>\n",
       "      <th>income</th>\n",
       "    </tr>\n",
       "  </thead>\n",
       "  <tbody>\n",
       "    <tr>\n",
       "      <th>0</th>\n",
       "      <td>39</td>\n",
       "      <td>State-gov</td>\n",
       "      <td>77516</td>\n",
       "      <td>Bachelors</td>\n",
       "      <td>13</td>\n",
       "      <td>Never-married</td>\n",
       "      <td>Adm-clerical</td>\n",
       "      <td>Not-in-family</td>\n",
       "      <td>White</td>\n",
       "      <td>Male</td>\n",
       "      <td>2174</td>\n",
       "      <td>0</td>\n",
       "      <td>40</td>\n",
       "      <td>United-States</td>\n",
       "      <td>&lt;=50K</td>\n",
       "    </tr>\n",
       "    <tr>\n",
       "      <th>1</th>\n",
       "      <td>50</td>\n",
       "      <td>Self-emp-not-inc</td>\n",
       "      <td>83311</td>\n",
       "      <td>Bachelors</td>\n",
       "      <td>13</td>\n",
       "      <td>Married-civ-spouse</td>\n",
       "      <td>Exec-managerial</td>\n",
       "      <td>Husband</td>\n",
       "      <td>White</td>\n",
       "      <td>Male</td>\n",
       "      <td>0</td>\n",
       "      <td>0</td>\n",
       "      <td>13</td>\n",
       "      <td>United-States</td>\n",
       "      <td>&lt;=50K</td>\n",
       "    </tr>\n",
       "    <tr>\n",
       "      <th>2</th>\n",
       "      <td>38</td>\n",
       "      <td>Private</td>\n",
       "      <td>215646</td>\n",
       "      <td>HS-grad</td>\n",
       "      <td>9</td>\n",
       "      <td>Divorced</td>\n",
       "      <td>Handlers-cleaners</td>\n",
       "      <td>Not-in-family</td>\n",
       "      <td>White</td>\n",
       "      <td>Male</td>\n",
       "      <td>0</td>\n",
       "      <td>0</td>\n",
       "      <td>40</td>\n",
       "      <td>United-States</td>\n",
       "      <td>&lt;=50K</td>\n",
       "    </tr>\n",
       "    <tr>\n",
       "      <th>3</th>\n",
       "      <td>53</td>\n",
       "      <td>Private</td>\n",
       "      <td>234721</td>\n",
       "      <td>11th</td>\n",
       "      <td>7</td>\n",
       "      <td>Married-civ-spouse</td>\n",
       "      <td>Handlers-cleaners</td>\n",
       "      <td>Husband</td>\n",
       "      <td>Black</td>\n",
       "      <td>Male</td>\n",
       "      <td>0</td>\n",
       "      <td>0</td>\n",
       "      <td>40</td>\n",
       "      <td>United-States</td>\n",
       "      <td>&lt;=50K</td>\n",
       "    </tr>\n",
       "    <tr>\n",
       "      <th>4</th>\n",
       "      <td>28</td>\n",
       "      <td>Private</td>\n",
       "      <td>338409</td>\n",
       "      <td>Bachelors</td>\n",
       "      <td>13</td>\n",
       "      <td>Married-civ-spouse</td>\n",
       "      <td>Prof-specialty</td>\n",
       "      <td>Wife</td>\n",
       "      <td>Black</td>\n",
       "      <td>Female</td>\n",
       "      <td>0</td>\n",
       "      <td>0</td>\n",
       "      <td>40</td>\n",
       "      <td>Cuba</td>\n",
       "      <td>&lt;=50K</td>\n",
       "    </tr>\n",
       "  </tbody>\n",
       "</table>\n",
       "</div>"
      ],
      "text/plain": [
       "   age          workclass  final-weight   education  education-num  \\\n",
       "0   39          State-gov         77516   Bachelors             13   \n",
       "1   50   Self-emp-not-inc         83311   Bachelors             13   \n",
       "2   38            Private        215646     HS-grad              9   \n",
       "3   53            Private        234721        11th              7   \n",
       "4   28            Private        338409   Bachelors             13   \n",
       "\n",
       "        marital-status          occupation    relationship    race      sex  \\\n",
       "0        Never-married        Adm-clerical   Not-in-family   White     Male   \n",
       "1   Married-civ-spouse     Exec-managerial         Husband   White     Male   \n",
       "2             Divorced   Handlers-cleaners   Not-in-family   White     Male   \n",
       "3   Married-civ-spouse   Handlers-cleaners         Husband   Black     Male   \n",
       "4   Married-civ-spouse      Prof-specialty            Wife   Black   Female   \n",
       "\n",
       "   capital-gain  capital-loos  hour-per-week  native-country  income  \n",
       "0          2174             0             40   United-States   <=50K  \n",
       "1             0             0             13   United-States   <=50K  \n",
       "2             0             0             40   United-States   <=50K  \n",
       "3             0             0             40   United-States   <=50K  \n",
       "4             0             0             40            Cuba   <=50K  "
      ]
     },
     "execution_count": 3,
     "metadata": {},
     "output_type": "execute_result"
    }
   ],
   "source": [
    "data.head()"
   ]
  },
  {
   "cell_type": "code",
   "execution_count": 4,
   "id": "6fc315bf-c1e5-40fd-981f-729d4d0dbf66",
   "metadata": {},
   "outputs": [
    {
     "name": "stdout",
     "output_type": "stream",
     "text": [
      "<class 'pandas.core.frame.DataFrame'>\n",
      "RangeIndex: 32561 entries, 0 to 32560\n",
      "Data columns (total 15 columns):\n",
      " #   Column          Non-Null Count  Dtype \n",
      "---  ------          --------------  ----- \n",
      " 0   age             32561 non-null  int64 \n",
      " 1   workclass       32561 non-null  object\n",
      " 2   final-weight    32561 non-null  int64 \n",
      " 3   education       32561 non-null  object\n",
      " 4   education-num   32561 non-null  int64 \n",
      " 5   marital-status  32561 non-null  object\n",
      " 6   occupation      32561 non-null  object\n",
      " 7   relationship    32561 non-null  object\n",
      " 8   race            32561 non-null  object\n",
      " 9   sex             32561 non-null  object\n",
      " 10  capital-gain    32561 non-null  int64 \n",
      " 11  capital-loos    32561 non-null  int64 \n",
      " 12  hour-per-week   32561 non-null  int64 \n",
      " 13  native-country  32561 non-null  object\n",
      " 14  income          32561 non-null  object\n",
      "dtypes: int64(6), object(9)\n",
      "memory usage: 3.7+ MB\n"
     ]
    }
   ],
   "source": [
    "data.info()"
   ]
  },
  {
   "cell_type": "markdown",
   "id": "424f9b65-7f38-42bb-a707-1b1936e4e105",
   "metadata": {},
   "source": [
    "Verificando valores nulos"
   ]
  },
  {
   "cell_type": "code",
   "execution_count": 5,
   "id": "024807f2-9aab-4a63-bc79-069d37f7476a",
   "metadata": {},
   "outputs": [
    {
     "data": {
      "text/plain": [
       "age               0\n",
       "workclass         0\n",
       "final-weight      0\n",
       "education         0\n",
       "education-num     0\n",
       "marital-status    0\n",
       "occupation        0\n",
       "relationship      0\n",
       "race              0\n",
       "sex               0\n",
       "capital-gain      0\n",
       "capital-loos      0\n",
       "hour-per-week     0\n",
       "native-country    0\n",
       "income            0\n",
       "dtype: int64"
      ]
     },
     "execution_count": 5,
     "metadata": {},
     "output_type": "execute_result"
    }
   ],
   "source": [
    "data.isnull().sum()"
   ]
  },
  {
   "cell_type": "markdown",
   "id": "9e8a02a8-7fa9-42d8-89ac-55df4259d255",
   "metadata": {},
   "source": [
    "Não foi encontrado nenhum dado nulo, porém vamos continuar explorando os dados para vermos se não tem nenhuma outra coisa como carácteres nulos como exemplo: none, ?, not information etc. "
   ]
  },
  {
   "cell_type": "markdown",
   "id": "6c2705ec-a4df-4dae-93e5-3b6e69cc96bc",
   "metadata": {},
   "source": [
    "Valores estatísticos. "
   ]
  },
  {
   "cell_type": "code",
   "execution_count": 6,
   "id": "cad813e2-b495-4a06-a492-3ba5cf06de8f",
   "metadata": {},
   "outputs": [
    {
     "data": {
      "text/html": [
       "<div>\n",
       "<style scoped>\n",
       "    .dataframe tbody tr th:only-of-type {\n",
       "        vertical-align: middle;\n",
       "    }\n",
       "\n",
       "    .dataframe tbody tr th {\n",
       "        vertical-align: top;\n",
       "    }\n",
       "\n",
       "    .dataframe thead th {\n",
       "        text-align: right;\n",
       "    }\n",
       "</style>\n",
       "<table border=\"1\" class=\"dataframe\">\n",
       "  <thead>\n",
       "    <tr style=\"text-align: right;\">\n",
       "      <th></th>\n",
       "      <th>age</th>\n",
       "      <th>final-weight</th>\n",
       "      <th>education-num</th>\n",
       "      <th>capital-gain</th>\n",
       "      <th>capital-loos</th>\n",
       "      <th>hour-per-week</th>\n",
       "    </tr>\n",
       "  </thead>\n",
       "  <tbody>\n",
       "    <tr>\n",
       "      <th>count</th>\n",
       "      <td>32561.000000</td>\n",
       "      <td>3.256100e+04</td>\n",
       "      <td>32561.000000</td>\n",
       "      <td>32561.000000</td>\n",
       "      <td>32561.000000</td>\n",
       "      <td>32561.000000</td>\n",
       "    </tr>\n",
       "    <tr>\n",
       "      <th>mean</th>\n",
       "      <td>38.581647</td>\n",
       "      <td>1.897784e+05</td>\n",
       "      <td>10.080679</td>\n",
       "      <td>1077.648844</td>\n",
       "      <td>87.303830</td>\n",
       "      <td>40.437456</td>\n",
       "    </tr>\n",
       "    <tr>\n",
       "      <th>std</th>\n",
       "      <td>13.640433</td>\n",
       "      <td>1.055500e+05</td>\n",
       "      <td>2.572720</td>\n",
       "      <td>7385.292085</td>\n",
       "      <td>402.960219</td>\n",
       "      <td>12.347429</td>\n",
       "    </tr>\n",
       "    <tr>\n",
       "      <th>min</th>\n",
       "      <td>17.000000</td>\n",
       "      <td>1.228500e+04</td>\n",
       "      <td>1.000000</td>\n",
       "      <td>0.000000</td>\n",
       "      <td>0.000000</td>\n",
       "      <td>1.000000</td>\n",
       "    </tr>\n",
       "    <tr>\n",
       "      <th>25%</th>\n",
       "      <td>28.000000</td>\n",
       "      <td>1.178270e+05</td>\n",
       "      <td>9.000000</td>\n",
       "      <td>0.000000</td>\n",
       "      <td>0.000000</td>\n",
       "      <td>40.000000</td>\n",
       "    </tr>\n",
       "    <tr>\n",
       "      <th>50%</th>\n",
       "      <td>37.000000</td>\n",
       "      <td>1.783560e+05</td>\n",
       "      <td>10.000000</td>\n",
       "      <td>0.000000</td>\n",
       "      <td>0.000000</td>\n",
       "      <td>40.000000</td>\n",
       "    </tr>\n",
       "    <tr>\n",
       "      <th>75%</th>\n",
       "      <td>48.000000</td>\n",
       "      <td>2.370510e+05</td>\n",
       "      <td>12.000000</td>\n",
       "      <td>0.000000</td>\n",
       "      <td>0.000000</td>\n",
       "      <td>45.000000</td>\n",
       "    </tr>\n",
       "    <tr>\n",
       "      <th>max</th>\n",
       "      <td>90.000000</td>\n",
       "      <td>1.484705e+06</td>\n",
       "      <td>16.000000</td>\n",
       "      <td>99999.000000</td>\n",
       "      <td>4356.000000</td>\n",
       "      <td>99.000000</td>\n",
       "    </tr>\n",
       "  </tbody>\n",
       "</table>\n",
       "</div>"
      ],
      "text/plain": [
       "                age  final-weight  education-num  capital-gain  capital-loos  \\\n",
       "count  32561.000000  3.256100e+04   32561.000000  32561.000000  32561.000000   \n",
       "mean      38.581647  1.897784e+05      10.080679   1077.648844     87.303830   \n",
       "std       13.640433  1.055500e+05       2.572720   7385.292085    402.960219   \n",
       "min       17.000000  1.228500e+04       1.000000      0.000000      0.000000   \n",
       "25%       28.000000  1.178270e+05       9.000000      0.000000      0.000000   \n",
       "50%       37.000000  1.783560e+05      10.000000      0.000000      0.000000   \n",
       "75%       48.000000  2.370510e+05      12.000000      0.000000      0.000000   \n",
       "max       90.000000  1.484705e+06      16.000000  99999.000000   4356.000000   \n",
       "\n",
       "       hour-per-week  \n",
       "count   32561.000000  \n",
       "mean       40.437456  \n",
       "std        12.347429  \n",
       "min         1.000000  \n",
       "25%        40.000000  \n",
       "50%        40.000000  \n",
       "75%        45.000000  \n",
       "max        99.000000  "
      ]
     },
     "execution_count": 6,
     "metadata": {},
     "output_type": "execute_result"
    }
   ],
   "source": [
    "data.describe()"
   ]
  },
  {
   "cell_type": "code",
   "execution_count": 7,
   "id": "dee01242-6df4-48bd-935e-cd7078f0d9d4",
   "metadata": {},
   "outputs": [
    {
     "data": {
      "text/html": [
       "<div>\n",
       "<style scoped>\n",
       "    .dataframe tbody tr th:only-of-type {\n",
       "        vertical-align: middle;\n",
       "    }\n",
       "\n",
       "    .dataframe tbody tr th {\n",
       "        vertical-align: top;\n",
       "    }\n",
       "\n",
       "    .dataframe thead th {\n",
       "        text-align: right;\n",
       "    }\n",
       "</style>\n",
       "<table border=\"1\" class=\"dataframe\">\n",
       "  <thead>\n",
       "    <tr style=\"text-align: right;\">\n",
       "      <th></th>\n",
       "      <th>workclass</th>\n",
       "      <th>education</th>\n",
       "      <th>marital-status</th>\n",
       "      <th>occupation</th>\n",
       "      <th>relationship</th>\n",
       "      <th>race</th>\n",
       "      <th>sex</th>\n",
       "      <th>native-country</th>\n",
       "      <th>income</th>\n",
       "    </tr>\n",
       "  </thead>\n",
       "  <tbody>\n",
       "    <tr>\n",
       "      <th>count</th>\n",
       "      <td>32561</td>\n",
       "      <td>32561</td>\n",
       "      <td>32561</td>\n",
       "      <td>32561</td>\n",
       "      <td>32561</td>\n",
       "      <td>32561</td>\n",
       "      <td>32561</td>\n",
       "      <td>32561</td>\n",
       "      <td>32561</td>\n",
       "    </tr>\n",
       "    <tr>\n",
       "      <th>unique</th>\n",
       "      <td>9</td>\n",
       "      <td>16</td>\n",
       "      <td>7</td>\n",
       "      <td>15</td>\n",
       "      <td>6</td>\n",
       "      <td>5</td>\n",
       "      <td>2</td>\n",
       "      <td>42</td>\n",
       "      <td>2</td>\n",
       "    </tr>\n",
       "    <tr>\n",
       "      <th>top</th>\n",
       "      <td>Private</td>\n",
       "      <td>HS-grad</td>\n",
       "      <td>Married-civ-spouse</td>\n",
       "      <td>Prof-specialty</td>\n",
       "      <td>Husband</td>\n",
       "      <td>White</td>\n",
       "      <td>Male</td>\n",
       "      <td>United-States</td>\n",
       "      <td>&lt;=50K</td>\n",
       "    </tr>\n",
       "    <tr>\n",
       "      <th>freq</th>\n",
       "      <td>22696</td>\n",
       "      <td>10501</td>\n",
       "      <td>14976</td>\n",
       "      <td>4140</td>\n",
       "      <td>13193</td>\n",
       "      <td>27816</td>\n",
       "      <td>21790</td>\n",
       "      <td>29170</td>\n",
       "      <td>24720</td>\n",
       "    </tr>\n",
       "  </tbody>\n",
       "</table>\n",
       "</div>"
      ],
      "text/plain": [
       "       workclass education       marital-status       occupation relationship  \\\n",
       "count      32561     32561                32561            32561        32561   \n",
       "unique         9        16                    7               15            6   \n",
       "top      Private   HS-grad   Married-civ-spouse   Prof-specialty      Husband   \n",
       "freq       22696     10501                14976             4140        13193   \n",
       "\n",
       "          race    sex  native-country  income  \n",
       "count    32561  32561           32561   32561  \n",
       "unique       5      2              42       2  \n",
       "top      White   Male   United-States   <=50K  \n",
       "freq     27816  21790           29170   24720  "
      ]
     },
     "execution_count": 7,
     "metadata": {},
     "output_type": "execute_result"
    }
   ],
   "source": [
    "data.describe(include='O')"
   ]
  },
  {
   "cell_type": "markdown",
   "id": "9a4ffb19-baf6-4083-b314-08b3bb293489",
   "metadata": {},
   "source": [
    "Valores únicos\n",
    "\n",
    "Esses valores são importantes para que a gente possa construir gráficos e também saber quanto valor tem cada classe."
   ]
  },
  {
   "cell_type": "code",
   "execution_count": 8,
   "id": "94b349c3-065a-44d5-bc89-e3491ae42838",
   "metadata": {},
   "outputs": [
    {
     "name": "stdout",
     "output_type": "stream",
     "text": [
      "age : 73\n",
      "workclass : 9\n",
      "final-weight : 21648\n",
      "education : 16\n",
      "education-num : 16\n",
      "marital-status : 7\n",
      "occupation : 15\n",
      "relationship : 6\n",
      "race : 5\n",
      "sex : 2\n",
      "capital-gain : 119\n",
      "capital-loos : 92\n",
      "hour-per-week : 94\n",
      "native-country : 42\n",
      "income : 2\n"
     ]
    }
   ],
   "source": [
    "valores_unicos = []\n",
    "\n",
    "for i in data.columns[0:15].tolist():\n",
    "    print(i, ':', len(data[i].value_counts()))\n",
    "    valores_unicos.append(len(data[i].value_counts()))"
   ]
  },
  {
   "cell_type": "markdown",
   "id": "eb84a00b-3fd6-4dc3-8e2c-7a551176bce8",
   "metadata": {},
   "source": [
    "Repare que nossa variável alvo income tem apenas 2 valores possíveis, por se tratar de um problema de classificação isso é normal já que a maioria dos modelos usam dados do tipo booleano sim/não para classificação. "
   ]
  },
  {
   "cell_type": "markdown",
   "id": "e8945c04-05a9-4674-b0fc-cf44af005cb6",
   "metadata": {},
   "source": [
    "Agrupamento por sexo:"
   ]
  },
  {
   "cell_type": "code",
   "execution_count": 9,
   "id": "411c027d-0b03-4484-baa9-fd127ecb46d8",
   "metadata": {},
   "outputs": [
    {
     "data": {
      "text/plain": [
       "sex\n",
       "Female    10771\n",
       "Male      21790\n",
       "dtype: int64"
      ]
     },
     "execution_count": 9,
     "metadata": {},
     "output_type": "execute_result"
    }
   ],
   "source": [
    "data.groupby(['sex']).size()"
   ]
  },
  {
   "cell_type": "markdown",
   "id": "928b2954-4a19-4e5a-a4ef-43c96af91595",
   "metadata": {},
   "source": [
    "Repare que temos mais que o dobro de homens nessa base de dados conforme gráfico abaixo."
   ]
  },
  {
   "cell_type": "code",
   "execution_count": 10,
   "id": "8beac79f-4e6e-4b90-80a8-5d583ec1df5f",
   "metadata": {},
   "outputs": [
    {
     "data": {
      "image/png": "[encoded data removed]",
      "text/plain": [
       "<Figure size 640x480 with 1 Axes>"
      ]
     },
     "metadata": {},
     "output_type": "display_data"
    }
   ],
   "source": [
    "data['sex'].value_counts().plot(kind='bar', title = 'Sex');"
   ]
  },
  {
   "cell_type": "markdown",
   "id": "36b5c86f-f379-42c3-83ac-965e08ad5e79",
   "metadata": {},
   "source": [
    "Verificando o balanceamento da variável alvo."
   ]
  },
  {
   "cell_type": "markdown",
   "id": "7b9c204a-4d3b-4095-ac71-1b3adc438f56",
   "metadata": {},
   "source": [
    "Para isso vamos criar um gráfico de barras que irá correlacionar o número em anos de estudo com income acima e abaixo de 50 mil"
   ]
  },
  {
   "cell_type": "code",
   "execution_count": 11,
   "id": "08382a67-6e16-4cd9-affa-3d82d82e1e9c",
   "metadata": {},
   "outputs": [
    {
     "data": {
      "image/png": "[encoded data removed]",
      "text/plain": [
       "<Figure size 640x480 with 1 Axes>"
      ]
     },
     "metadata": {},
     "output_type": "display_data"
    }
   ],
   "source": [
    "data['income'].value_counts().plot(kind = 'bar', title = 'Variável Alvo');"
   ]
  },
  {
   "cell_type": "markdown",
   "id": "f14d28b2-5c95-4759-b6c9-7207d4b20814",
   "metadata": {},
   "source": [
    "Temos um problema aqui precisamos balancear as categorias para que nosso modelo de classificação possa funcionar melhore evitar um viés após ser treinado porém na parte de criação do modelo iremos fazer isso. "
   ]
  },
  {
   "cell_type": "markdown",
   "id": "fd874b68-9f81-46d8-bdf1-6b4d2b3cb716",
   "metadata": {},
   "source": [
    "Vamos ver os demais gráficos.\n"
   ]
  },
  {
   "cell_type": "code",
   "execution_count": 12,
   "id": "f57fbdc6-63ef-4d99-94b4-1a063f115518",
   "metadata": {},
   "outputs": [
    {
     "data": {
      "image/png": "[encoded data removed]",
      "text/plain": [
       "<Figure size 640x480 with 1 Axes>"
      ]
     },
     "metadata": {},
     "output_type": "display_data"
    }
   ],
   "source": [
    "data['workclass'].value_counts().plot(kind='bar', title = 'Workclass');"
   ]
  },
  {
   "cell_type": "markdown",
   "id": "10595564-0793-48e7-b496-e69717c2144f",
   "metadata": {},
   "source": [
    "Repare em como a classe private que se trata de pessoas que trabalham no setor privado é bem maior que as demais. Isso também é normal já que nem todos da população irá trabalhar no setor público, então aqui não se faz necessário equilibrar as classes."
   ]
  },
  {
   "cell_type": "markdown",
   "id": "6019ced5-f82d-4ac5-b9a9-02ef92aed00d",
   "metadata": {},
   "source": [
    "Mas um problema temos que tratar essas classes com ponto de interrogação. "
   ]
  },
  {
   "cell_type": "markdown",
   "id": "55573877-24c5-4d4c-8974-6f5b91e78464",
   "metadata": {},
   "source": [
    "vamos ver o boxplot da classe final-weight"
   ]
  },
  {
   "cell_type": "code",
   "execution_count": 13,
   "id": "6dbc68b1-196d-486f-ae3e-236dba7876bd",
   "metadata": {},
   "outputs": [
    {
     "data": {
      "image/png": "[encoded data removed]",
      "text/plain": [
       "<Figure size 640x480 with 1 Axes>"
      ]
     },
     "metadata": {},
     "output_type": "display_data"
    }
   ],
   "source": [
    "plt.boxplot(data['final-weight']);\n",
    "plt.title(data['final-weight']);"
   ]
  },
  {
   "cell_type": "markdown",
   "id": "595f4f62-a844-435c-bcc9-133f8a4bb247",
   "metadata": {},
   "source": [
    "Temos bastante outliers isso demosntra que devemos normalizar os dados, vamos usar isso com a normalização robusta que é baseada na mediana e não está sujeita aos outliers. "
   ]
  },
  {
   "cell_type": "code",
   "execution_count": 14,
   "id": "5f5df09a-c675-436b-9623-a74bc41d142f",
   "metadata": {},
   "outputs": [
    {
     "data": {
      "image/png": "[encoded data removed]",
      "text/plain": [
       "<Figure size 640x480 with 1 Axes>"
      ]
     },
     "metadata": {},
     "output_type": "display_data"
    }
   ],
   "source": [
    "data['education'].value_counts().plot(kind='bar', title = 'Educação');"
   ]
  },
  {
   "cell_type": "code",
   "execution_count": 15,
   "id": "e245ad4c-7820-4471-9144-f421eac12d69",
   "metadata": {},
   "outputs": [
    {
     "data": {
      "image/png": "[encoded data removed]",
      "text/plain": [
       "<Figure size 640x480 with 1 Axes>"
      ]
     },
     "metadata": {},
     "output_type": "display_data"
    }
   ],
   "source": [
    "data['marital-status'].value_counts().plot(kind='bar', title = 'Estado civil');\n"
   ]
  },
  {
   "cell_type": "markdown",
   "id": "55c29751-87b3-4fe8-8aa4-bc5f63f20003",
   "metadata": {},
   "source": [
    "Vamos corrigir os dados com ponto de interrogação."
   ]
  },
  {
   "cell_type": "code",
   "execution_count": 16,
   "id": "b0fe3337-89f3-45c0-970f-440f365fbf0d",
   "metadata": {},
   "outputs": [
    {
     "data": {
      "text/html": [
       "<div>\n",
       "<style scoped>\n",
       "    .dataframe tbody tr th:only-of-type {\n",
       "        vertical-align: middle;\n",
       "    }\n",
       "\n",
       "    .dataframe tbody tr th {\n",
       "        vertical-align: top;\n",
       "    }\n",
       "\n",
       "    .dataframe thead th {\n",
       "        text-align: right;\n",
       "    }\n",
       "</style>\n",
       "<table border=\"1\" class=\"dataframe\">\n",
       "  <thead>\n",
       "    <tr style=\"text-align: right;\">\n",
       "      <th></th>\n",
       "      <th>age</th>\n",
       "      <th>workclass</th>\n",
       "      <th>final-weight</th>\n",
       "      <th>education</th>\n",
       "      <th>education-num</th>\n",
       "      <th>marital-status</th>\n",
       "      <th>occupation</th>\n",
       "      <th>relationship</th>\n",
       "      <th>race</th>\n",
       "      <th>sex</th>\n",
       "      <th>capital-gain</th>\n",
       "      <th>capital-loos</th>\n",
       "      <th>hour-per-week</th>\n",
       "      <th>native-country</th>\n",
       "      <th>income</th>\n",
       "    </tr>\n",
       "  </thead>\n",
       "  <tbody>\n",
       "    <tr>\n",
       "      <th>106</th>\n",
       "      <td>17</td>\n",
       "      <td>?</td>\n",
       "      <td>304873</td>\n",
       "      <td>10th</td>\n",
       "      <td>6</td>\n",
       "      <td>Never-married</td>\n",
       "      <td>?</td>\n",
       "      <td>Own-child</td>\n",
       "      <td>White</td>\n",
       "      <td>Female</td>\n",
       "      <td>34095</td>\n",
       "      <td>0</td>\n",
       "      <td>32</td>\n",
       "      <td>United-States</td>\n",
       "      <td>&lt;=50K</td>\n",
       "    </tr>\n",
       "    <tr>\n",
       "      <th>201</th>\n",
       "      <td>19</td>\n",
       "      <td>?</td>\n",
       "      <td>170653</td>\n",
       "      <td>HS-grad</td>\n",
       "      <td>9</td>\n",
       "      <td>Never-married</td>\n",
       "      <td>?</td>\n",
       "      <td>Own-child</td>\n",
       "      <td>White</td>\n",
       "      <td>Male</td>\n",
       "      <td>0</td>\n",
       "      <td>0</td>\n",
       "      <td>40</td>\n",
       "      <td>Italy</td>\n",
       "      <td>&lt;=50K</td>\n",
       "    </tr>\n",
       "    <tr>\n",
       "      <th>243</th>\n",
       "      <td>20</td>\n",
       "      <td>?</td>\n",
       "      <td>119156</td>\n",
       "      <td>Some-college</td>\n",
       "      <td>10</td>\n",
       "      <td>Never-married</td>\n",
       "      <td>?</td>\n",
       "      <td>Own-child</td>\n",
       "      <td>White</td>\n",
       "      <td>Male</td>\n",
       "      <td>0</td>\n",
       "      <td>0</td>\n",
       "      <td>20</td>\n",
       "      <td>United-States</td>\n",
       "      <td>&lt;=50K</td>\n",
       "    </tr>\n",
       "    <tr>\n",
       "      <th>266</th>\n",
       "      <td>19</td>\n",
       "      <td>?</td>\n",
       "      <td>218956</td>\n",
       "      <td>Some-college</td>\n",
       "      <td>10</td>\n",
       "      <td>Never-married</td>\n",
       "      <td>?</td>\n",
       "      <td>Own-child</td>\n",
       "      <td>White</td>\n",
       "      <td>Male</td>\n",
       "      <td>0</td>\n",
       "      <td>0</td>\n",
       "      <td>24</td>\n",
       "      <td>Canada</td>\n",
       "      <td>&lt;=50K</td>\n",
       "    </tr>\n",
       "    <tr>\n",
       "      <th>312</th>\n",
       "      <td>19</td>\n",
       "      <td>?</td>\n",
       "      <td>860348</td>\n",
       "      <td>Some-college</td>\n",
       "      <td>10</td>\n",
       "      <td>Never-married</td>\n",
       "      <td>?</td>\n",
       "      <td>Own-child</td>\n",
       "      <td>Black</td>\n",
       "      <td>Female</td>\n",
       "      <td>0</td>\n",
       "      <td>0</td>\n",
       "      <td>25</td>\n",
       "      <td>United-States</td>\n",
       "      <td>&lt;=50K</td>\n",
       "    </tr>\n",
       "    <tr>\n",
       "      <th>...</th>\n",
       "      <td>...</td>\n",
       "      <td>...</td>\n",
       "      <td>...</td>\n",
       "      <td>...</td>\n",
       "      <td>...</td>\n",
       "      <td>...</td>\n",
       "      <td>...</td>\n",
       "      <td>...</td>\n",
       "      <td>...</td>\n",
       "      <td>...</td>\n",
       "      <td>...</td>\n",
       "      <td>...</td>\n",
       "      <td>...</td>\n",
       "      <td>...</td>\n",
       "      <td>...</td>\n",
       "    </tr>\n",
       "    <tr>\n",
       "      <th>32275</th>\n",
       "      <td>20</td>\n",
       "      <td>?</td>\n",
       "      <td>99891</td>\n",
       "      <td>Some-college</td>\n",
       "      <td>10</td>\n",
       "      <td>Never-married</td>\n",
       "      <td>?</td>\n",
       "      <td>Own-child</td>\n",
       "      <td>White</td>\n",
       "      <td>Female</td>\n",
       "      <td>0</td>\n",
       "      <td>0</td>\n",
       "      <td>30</td>\n",
       "      <td>United-States</td>\n",
       "      <td>&lt;=50K</td>\n",
       "    </tr>\n",
       "    <tr>\n",
       "      <th>32310</th>\n",
       "      <td>21</td>\n",
       "      <td>?</td>\n",
       "      <td>205939</td>\n",
       "      <td>Some-college</td>\n",
       "      <td>10</td>\n",
       "      <td>Never-married</td>\n",
       "      <td>?</td>\n",
       "      <td>Own-child</td>\n",
       "      <td>White</td>\n",
       "      <td>Male</td>\n",
       "      <td>0</td>\n",
       "      <td>0</td>\n",
       "      <td>40</td>\n",
       "      <td>United-States</td>\n",
       "      <td>&lt;=50K</td>\n",
       "    </tr>\n",
       "    <tr>\n",
       "      <th>32314</th>\n",
       "      <td>18</td>\n",
       "      <td>Never-worked</td>\n",
       "      <td>153663</td>\n",
       "      <td>Some-college</td>\n",
       "      <td>10</td>\n",
       "      <td>Never-married</td>\n",
       "      <td>?</td>\n",
       "      <td>Own-child</td>\n",
       "      <td>White</td>\n",
       "      <td>Male</td>\n",
       "      <td>0</td>\n",
       "      <td>0</td>\n",
       "      <td>4</td>\n",
       "      <td>United-States</td>\n",
       "      <td>&lt;=50K</td>\n",
       "    </tr>\n",
       "    <tr>\n",
       "      <th>32335</th>\n",
       "      <td>18</td>\n",
       "      <td>?</td>\n",
       "      <td>156608</td>\n",
       "      <td>11th</td>\n",
       "      <td>7</td>\n",
       "      <td>Never-married</td>\n",
       "      <td>?</td>\n",
       "      <td>Own-child</td>\n",
       "      <td>White</td>\n",
       "      <td>Female</td>\n",
       "      <td>0</td>\n",
       "      <td>0</td>\n",
       "      <td>25</td>\n",
       "      <td>United-States</td>\n",
       "      <td>&lt;=50K</td>\n",
       "    </tr>\n",
       "    <tr>\n",
       "      <th>32426</th>\n",
       "      <td>20</td>\n",
       "      <td>?</td>\n",
       "      <td>203992</td>\n",
       "      <td>HS-grad</td>\n",
       "      <td>9</td>\n",
       "      <td>Never-married</td>\n",
       "      <td>?</td>\n",
       "      <td>Own-child</td>\n",
       "      <td>White</td>\n",
       "      <td>Male</td>\n",
       "      <td>0</td>\n",
       "      <td>0</td>\n",
       "      <td>40</td>\n",
       "      <td>United-States</td>\n",
       "      <td>&lt;=50K</td>\n",
       "    </tr>\n",
       "  </tbody>\n",
       "</table>\n",
       "<p>478 rows × 15 columns</p>\n",
       "</div>"
      ],
      "text/plain": [
       "       age      workclass  final-weight      education  education-num  \\\n",
       "106     17              ?        304873           10th              6   \n",
       "201     19              ?        170653        HS-grad              9   \n",
       "243     20              ?        119156   Some-college             10   \n",
       "266     19              ?        218956   Some-college             10   \n",
       "312     19              ?        860348   Some-college             10   \n",
       "...    ...            ...           ...            ...            ...   \n",
       "32275   20              ?         99891   Some-college             10   \n",
       "32310   21              ?        205939   Some-college             10   \n",
       "32314   18   Never-worked        153663   Some-college             10   \n",
       "32335   18              ?        156608           11th              7   \n",
       "32426   20              ?        203992        HS-grad              9   \n",
       "\n",
       "       marital-status occupation relationship    race      sex  capital-gain  \\\n",
       "106     Never-married          ?    Own-child   White   Female         34095   \n",
       "201     Never-married          ?    Own-child   White     Male             0   \n",
       "243     Never-married          ?    Own-child   White     Male             0   \n",
       "266     Never-married          ?    Own-child   White     Male             0   \n",
       "312     Never-married          ?    Own-child   Black   Female             0   \n",
       "...               ...        ...          ...     ...      ...           ...   \n",
       "32275   Never-married          ?    Own-child   White   Female             0   \n",
       "32310   Never-married          ?    Own-child   White     Male             0   \n",
       "32314   Never-married          ?    Own-child   White     Male             0   \n",
       "32335   Never-married          ?    Own-child   White   Female             0   \n",
       "32426   Never-married          ?    Own-child   White     Male             0   \n",
       "\n",
       "       capital-loos  hour-per-week  native-country  income  \n",
       "106               0             32   United-States   <=50K  \n",
       "201               0             40           Italy   <=50K  \n",
       "243               0             20   United-States   <=50K  \n",
       "266               0             24          Canada   <=50K  \n",
       "312               0             25   United-States   <=50K  \n",
       "...             ...            ...             ...     ...  \n",
       "32275             0             30   United-States   <=50K  \n",
       "32310             0             40   United-States   <=50K  \n",
       "32314             0              4   United-States   <=50K  \n",
       "32335             0             25   United-States   <=50K  \n",
       "32426             0             40   United-States   <=50K  \n",
       "\n",
       "[478 rows x 15 columns]"
      ]
     },
     "execution_count": 16,
     "metadata": {},
     "output_type": "execute_result"
    }
   ],
   "source": [
    "data.loc[(data['occupation'] == ' ?') & (data['age'] <=21)]"
   ]
  },
  {
   "cell_type": "code",
   "execution_count": 17,
   "id": "c4edce0c-bc7d-45d6-9f69-0ecb868ed20e",
   "metadata": {},
   "outputs": [
    {
     "data": {
      "text/plain": [
       "array([' State-gov', ' Self-emp-not-inc', ' Private', ' Federal-gov',\n",
       "       ' Local-gov', ' ?', ' Self-emp-inc', ' Without-pay',\n",
       "       ' Never-worked'], dtype=object)"
      ]
     },
     "execution_count": 17,
     "metadata": {},
     "output_type": "execute_result"
    }
   ],
   "source": [
    "data['workclass'].unique()"
   ]
  },
  {
   "cell_type": "code",
   "execution_count": 18,
   "id": "e77425a7-b735-4280-b18f-241b370a8eac",
   "metadata": {},
   "outputs": [
    {
     "name": "stderr",
     "output_type": "stream",
     "text": [
      "/tmp/ipykernel_15234/2030470913.py:1: FutureWarning: A value is trying to be set on a copy of a DataFrame or Series through chained assignment using an inplace method.\n",
      "The behavior will change in pandas 3.0. This inplace method will never work because the intermediate object on which we are setting values always behaves as a copy.\n",
      "\n",
      "For example, when doing 'df[col].method(value, inplace=True)', try using 'df.method({col: value}, inplace=True)' or df[col] = df[col].method(value) instead, to perform the operation inplace on the original object.\n",
      "\n",
      "\n",
      "  data['workclass'].replace({' ?': ' Self-emp-not-inc'}, inplace= True)\n"
     ]
    }
   ],
   "source": [
    "data['workclass'].replace({' ?': ' Self-emp-not-inc'}, inplace= True)"
   ]
  },
  {
   "cell_type": "markdown",
   "id": "74a7fafd-3dd6-4479-91de-70d1ec55dbbe",
   "metadata": {},
   "source": [
    "Por se tratar de idade universitária decidimos optamos pela workclass Self-emp-not-inc significa que estão fora do mercado de trabalho ou nunca iniciaram um trabalho essa classe cobre bem, pois provavelmente temos pessoas com mais de 21 anos nessa classe."
   ]
  },
  {
   "cell_type": "code",
   "execution_count": 19,
   "id": "acc2e5c5-1875-4180-b429-b65a1dba1d66",
   "metadata": {
    "scrolled": true
   },
   "outputs": [
    {
     "data": {
      "text/html": [
       "<div>\n",
       "<style scoped>\n",
       "    .dataframe tbody tr th:only-of-type {\n",
       "        vertical-align: middle;\n",
       "    }\n",
       "\n",
       "    .dataframe tbody tr th {\n",
       "        vertical-align: top;\n",
       "    }\n",
       "\n",
       "    .dataframe thead th {\n",
       "        text-align: right;\n",
       "    }\n",
       "</style>\n",
       "<table border=\"1\" class=\"dataframe\">\n",
       "  <thead>\n",
       "    <tr style=\"text-align: right;\">\n",
       "      <th></th>\n",
       "      <th>age</th>\n",
       "      <th>workclass</th>\n",
       "      <th>final-weight</th>\n",
       "      <th>education</th>\n",
       "      <th>education-num</th>\n",
       "      <th>marital-status</th>\n",
       "      <th>occupation</th>\n",
       "      <th>relationship</th>\n",
       "      <th>race</th>\n",
       "      <th>sex</th>\n",
       "      <th>capital-gain</th>\n",
       "      <th>capital-loos</th>\n",
       "      <th>hour-per-week</th>\n",
       "      <th>native-country</th>\n",
       "      <th>income</th>\n",
       "    </tr>\n",
       "  </thead>\n",
       "  <tbody>\n",
       "    <tr>\n",
       "      <th>243</th>\n",
       "      <td>20</td>\n",
       "      <td>Self-emp-not-inc</td>\n",
       "      <td>119156</td>\n",
       "      <td>Some-college</td>\n",
       "      <td>10</td>\n",
       "      <td>Never-married</td>\n",
       "      <td>?</td>\n",
       "      <td>Own-child</td>\n",
       "      <td>White</td>\n",
       "      <td>Male</td>\n",
       "      <td>0</td>\n",
       "      <td>0</td>\n",
       "      <td>20</td>\n",
       "      <td>United-States</td>\n",
       "      <td>&lt;=50K</td>\n",
       "    </tr>\n",
       "  </tbody>\n",
       "</table>\n",
       "</div>"
      ],
      "text/plain": [
       "     age          workclass  final-weight      education  education-num  \\\n",
       "243   20   Self-emp-not-inc        119156   Some-college             10   \n",
       "\n",
       "     marital-status occupation relationship    race    sex  capital-gain  \\\n",
       "243   Never-married          ?    Own-child   White   Male             0   \n",
       "\n",
       "     capital-loos  hour-per-week  native-country  income  \n",
       "243             0             20   United-States   <=50K  "
      ]
     },
     "execution_count": 19,
     "metadata": {},
     "output_type": "execute_result"
    }
   ],
   "source": [
    "data.iloc[[243]]"
   ]
  },
  {
   "cell_type": "code",
   "execution_count": 20,
   "id": "f55e4766-791b-44d7-9170-e2e17d5e0e41",
   "metadata": {},
   "outputs": [
    {
     "data": {
      "text/plain": [
       "array([' Adm-clerical', ' Exec-managerial', ' Handlers-cleaners',\n",
       "       ' Prof-specialty', ' Other-service', ' Sales', ' Craft-repair',\n",
       "       ' Transport-moving', ' Farming-fishing', ' Machine-op-inspct',\n",
       "       ' Tech-support', ' ?', ' Protective-serv', ' Armed-Forces',\n",
       "       ' Priv-house-serv'], dtype=object)"
      ]
     },
     "execution_count": 20,
     "metadata": {},
     "output_type": "execute_result"
    }
   ],
   "source": [
    "data['occupation'].unique()"
   ]
  },
  {
   "cell_type": "code",
   "execution_count": 21,
   "id": "5a382893-f3f2-465a-b174-6a4404d0c304",
   "metadata": {},
   "outputs": [
    {
     "data": {
      "text/html": [
       "<div>\n",
       "<style scoped>\n",
       "    .dataframe tbody tr th:only-of-type {\n",
       "        vertical-align: middle;\n",
       "    }\n",
       "\n",
       "    .dataframe tbody tr th {\n",
       "        vertical-align: top;\n",
       "    }\n",
       "\n",
       "    .dataframe thead th {\n",
       "        text-align: right;\n",
       "    }\n",
       "</style>\n",
       "<table border=\"1\" class=\"dataframe\">\n",
       "  <thead>\n",
       "    <tr style=\"text-align: right;\">\n",
       "      <th></th>\n",
       "      <th>age</th>\n",
       "      <th>workclass</th>\n",
       "      <th>final-weight</th>\n",
       "      <th>education</th>\n",
       "      <th>education-num</th>\n",
       "      <th>marital-status</th>\n",
       "      <th>occupation</th>\n",
       "      <th>relationship</th>\n",
       "      <th>race</th>\n",
       "      <th>sex</th>\n",
       "      <th>capital-gain</th>\n",
       "      <th>capital-loos</th>\n",
       "      <th>hour-per-week</th>\n",
       "      <th>native-country</th>\n",
       "      <th>income</th>\n",
       "    </tr>\n",
       "  </thead>\n",
       "  <tbody>\n",
       "    <tr>\n",
       "      <th>27</th>\n",
       "      <td>54</td>\n",
       "      <td>Self-emp-not-inc</td>\n",
       "      <td>180211</td>\n",
       "      <td>Some-college</td>\n",
       "      <td>10</td>\n",
       "      <td>Married-civ-spouse</td>\n",
       "      <td>?</td>\n",
       "      <td>Husband</td>\n",
       "      <td>Asian-Pac-Islander</td>\n",
       "      <td>Male</td>\n",
       "      <td>0</td>\n",
       "      <td>0</td>\n",
       "      <td>60</td>\n",
       "      <td>South</td>\n",
       "      <td>&gt;50K</td>\n",
       "    </tr>\n",
       "    <tr>\n",
       "      <th>61</th>\n",
       "      <td>32</td>\n",
       "      <td>Self-emp-not-inc</td>\n",
       "      <td>293936</td>\n",
       "      <td>7th-8th</td>\n",
       "      <td>4</td>\n",
       "      <td>Married-spouse-absent</td>\n",
       "      <td>?</td>\n",
       "      <td>Not-in-family</td>\n",
       "      <td>White</td>\n",
       "      <td>Male</td>\n",
       "      <td>0</td>\n",
       "      <td>0</td>\n",
       "      <td>40</td>\n",
       "      <td>?</td>\n",
       "      <td>&lt;=50K</td>\n",
       "    </tr>\n",
       "    <tr>\n",
       "      <th>69</th>\n",
       "      <td>25</td>\n",
       "      <td>Self-emp-not-inc</td>\n",
       "      <td>200681</td>\n",
       "      <td>Some-college</td>\n",
       "      <td>10</td>\n",
       "      <td>Never-married</td>\n",
       "      <td>?</td>\n",
       "      <td>Own-child</td>\n",
       "      <td>White</td>\n",
       "      <td>Male</td>\n",
       "      <td>0</td>\n",
       "      <td>0</td>\n",
       "      <td>40</td>\n",
       "      <td>United-States</td>\n",
       "      <td>&lt;=50K</td>\n",
       "    </tr>\n",
       "    <tr>\n",
       "      <th>77</th>\n",
       "      <td>67</td>\n",
       "      <td>Self-emp-not-inc</td>\n",
       "      <td>212759</td>\n",
       "      <td>10th</td>\n",
       "      <td>6</td>\n",
       "      <td>Married-civ-spouse</td>\n",
       "      <td>?</td>\n",
       "      <td>Husband</td>\n",
       "      <td>White</td>\n",
       "      <td>Male</td>\n",
       "      <td>0</td>\n",
       "      <td>0</td>\n",
       "      <td>2</td>\n",
       "      <td>United-States</td>\n",
       "      <td>&lt;=50K</td>\n",
       "    </tr>\n",
       "    <tr>\n",
       "      <th>106</th>\n",
       "      <td>17</td>\n",
       "      <td>Self-emp-not-inc</td>\n",
       "      <td>304873</td>\n",
       "      <td>10th</td>\n",
       "      <td>6</td>\n",
       "      <td>Never-married</td>\n",
       "      <td>?</td>\n",
       "      <td>Own-child</td>\n",
       "      <td>White</td>\n",
       "      <td>Female</td>\n",
       "      <td>34095</td>\n",
       "      <td>0</td>\n",
       "      <td>32</td>\n",
       "      <td>United-States</td>\n",
       "      <td>&lt;=50K</td>\n",
       "    </tr>\n",
       "    <tr>\n",
       "      <th>...</th>\n",
       "      <td>...</td>\n",
       "      <td>...</td>\n",
       "      <td>...</td>\n",
       "      <td>...</td>\n",
       "      <td>...</td>\n",
       "      <td>...</td>\n",
       "      <td>...</td>\n",
       "      <td>...</td>\n",
       "      <td>...</td>\n",
       "      <td>...</td>\n",
       "      <td>...</td>\n",
       "      <td>...</td>\n",
       "      <td>...</td>\n",
       "      <td>...</td>\n",
       "      <td>...</td>\n",
       "    </tr>\n",
       "    <tr>\n",
       "      <th>32530</th>\n",
       "      <td>35</td>\n",
       "      <td>Self-emp-not-inc</td>\n",
       "      <td>320084</td>\n",
       "      <td>Bachelors</td>\n",
       "      <td>13</td>\n",
       "      <td>Married-civ-spouse</td>\n",
       "      <td>?</td>\n",
       "      <td>Wife</td>\n",
       "      <td>White</td>\n",
       "      <td>Female</td>\n",
       "      <td>0</td>\n",
       "      <td>0</td>\n",
       "      <td>55</td>\n",
       "      <td>United-States</td>\n",
       "      <td>&gt;50K</td>\n",
       "    </tr>\n",
       "    <tr>\n",
       "      <th>32531</th>\n",
       "      <td>30</td>\n",
       "      <td>Self-emp-not-inc</td>\n",
       "      <td>33811</td>\n",
       "      <td>Bachelors</td>\n",
       "      <td>13</td>\n",
       "      <td>Never-married</td>\n",
       "      <td>?</td>\n",
       "      <td>Not-in-family</td>\n",
       "      <td>Asian-Pac-Islander</td>\n",
       "      <td>Female</td>\n",
       "      <td>0</td>\n",
       "      <td>0</td>\n",
       "      <td>99</td>\n",
       "      <td>United-States</td>\n",
       "      <td>&lt;=50K</td>\n",
       "    </tr>\n",
       "    <tr>\n",
       "      <th>32539</th>\n",
       "      <td>71</td>\n",
       "      <td>Self-emp-not-inc</td>\n",
       "      <td>287372</td>\n",
       "      <td>Doctorate</td>\n",
       "      <td>16</td>\n",
       "      <td>Married-civ-spouse</td>\n",
       "      <td>?</td>\n",
       "      <td>Husband</td>\n",
       "      <td>White</td>\n",
       "      <td>Male</td>\n",
       "      <td>0</td>\n",
       "      <td>0</td>\n",
       "      <td>10</td>\n",
       "      <td>United-States</td>\n",
       "      <td>&gt;50K</td>\n",
       "    </tr>\n",
       "    <tr>\n",
       "      <th>32541</th>\n",
       "      <td>41</td>\n",
       "      <td>Self-emp-not-inc</td>\n",
       "      <td>202822</td>\n",
       "      <td>HS-grad</td>\n",
       "      <td>9</td>\n",
       "      <td>Separated</td>\n",
       "      <td>?</td>\n",
       "      <td>Not-in-family</td>\n",
       "      <td>Black</td>\n",
       "      <td>Female</td>\n",
       "      <td>0</td>\n",
       "      <td>0</td>\n",
       "      <td>32</td>\n",
       "      <td>United-States</td>\n",
       "      <td>&lt;=50K</td>\n",
       "    </tr>\n",
       "    <tr>\n",
       "      <th>32542</th>\n",
       "      <td>72</td>\n",
       "      <td>Self-emp-not-inc</td>\n",
       "      <td>129912</td>\n",
       "      <td>HS-grad</td>\n",
       "      <td>9</td>\n",
       "      <td>Married-civ-spouse</td>\n",
       "      <td>?</td>\n",
       "      <td>Husband</td>\n",
       "      <td>White</td>\n",
       "      <td>Male</td>\n",
       "      <td>0</td>\n",
       "      <td>0</td>\n",
       "      <td>25</td>\n",
       "      <td>United-States</td>\n",
       "      <td>&lt;=50K</td>\n",
       "    </tr>\n",
       "  </tbody>\n",
       "</table>\n",
       "<p>1843 rows × 15 columns</p>\n",
       "</div>"
      ],
      "text/plain": [
       "       age          workclass  final-weight      education  education-num  \\\n",
       "27      54   Self-emp-not-inc        180211   Some-college             10   \n",
       "61      32   Self-emp-not-inc        293936        7th-8th              4   \n",
       "69      25   Self-emp-not-inc        200681   Some-college             10   \n",
       "77      67   Self-emp-not-inc        212759           10th              6   \n",
       "106     17   Self-emp-not-inc        304873           10th              6   \n",
       "...    ...                ...           ...            ...            ...   \n",
       "32530   35   Self-emp-not-inc        320084      Bachelors             13   \n",
       "32531   30   Self-emp-not-inc         33811      Bachelors             13   \n",
       "32539   71   Self-emp-not-inc        287372      Doctorate             16   \n",
       "32541   41   Self-emp-not-inc        202822        HS-grad              9   \n",
       "32542   72   Self-emp-not-inc        129912        HS-grad              9   \n",
       "\n",
       "               marital-status occupation    relationship                 race  \\\n",
       "27         Married-civ-spouse          ?         Husband   Asian-Pac-Islander   \n",
       "61      Married-spouse-absent          ?   Not-in-family                White   \n",
       "69              Never-married          ?       Own-child                White   \n",
       "77         Married-civ-spouse          ?         Husband                White   \n",
       "106             Never-married          ?       Own-child                White   \n",
       "...                       ...        ...             ...                  ...   \n",
       "32530      Married-civ-spouse          ?            Wife                White   \n",
       "32531           Never-married          ?   Not-in-family   Asian-Pac-Islander   \n",
       "32539      Married-civ-spouse          ?         Husband                White   \n",
       "32541               Separated          ?   Not-in-family                Black   \n",
       "32542      Married-civ-spouse          ?         Husband                White   \n",
       "\n",
       "           sex  capital-gain  capital-loos  hour-per-week  native-country  \\\n",
       "27        Male             0             0             60           South   \n",
       "61        Male             0             0             40               ?   \n",
       "69        Male             0             0             40   United-States   \n",
       "77        Male             0             0              2   United-States   \n",
       "106     Female         34095             0             32   United-States   \n",
       "...        ...           ...           ...            ...             ...   \n",
       "32530   Female             0             0             55   United-States   \n",
       "32531   Female             0             0             99   United-States   \n",
       "32539     Male             0             0             10   United-States   \n",
       "32541   Female             0             0             32   United-States   \n",
       "32542     Male             0             0             25   United-States   \n",
       "\n",
       "       income  \n",
       "27       >50K  \n",
       "61      <=50K  \n",
       "69      <=50K  \n",
       "77      <=50K  \n",
       "106     <=50K  \n",
       "...       ...  \n",
       "32530    >50K  \n",
       "32531   <=50K  \n",
       "32539    >50K  \n",
       "32541   <=50K  \n",
       "32542   <=50K  \n",
       "\n",
       "[1843 rows x 15 columns]"
      ]
     },
     "execution_count": 21,
     "metadata": {},
     "output_type": "execute_result"
    }
   ],
   "source": [
    "data.loc[(data['occupation'] == ' ?')]"
   ]
  },
  {
   "cell_type": "code",
   "execution_count": 22,
   "id": "9b900d62-fadf-49c2-b993-f11ba66f6b69",
   "metadata": {},
   "outputs": [
    {
     "name": "stderr",
     "output_type": "stream",
     "text": [
      "/tmp/ipykernel_15234/1037181472.py:1: FutureWarning: A value is trying to be set on a copy of a DataFrame or Series through chained assignment using an inplace method.\n",
      "The behavior will change in pandas 3.0. This inplace method will never work because the intermediate object on which we are setting values always behaves as a copy.\n",
      "\n",
      "For example, when doing 'df[col].method(value, inplace=True)', try using 'df.method({col: value}, inplace=True)' or df[col] = df[col].method(value) instead, to perform the operation inplace on the original object.\n",
      "\n",
      "\n",
      "  data['occupation'].replace({' ?': ' Other-service'}, inplace= True)\n"
     ]
    }
   ],
   "source": [
    "data['occupation'].replace({' ?': ' Other-service'}, inplace= True)"
   ]
  },
  {
   "cell_type": "code",
   "execution_count": 23,
   "id": "b8866f19-2a83-4bf2-85e3-c4251a721fc2",
   "metadata": {},
   "outputs": [
    {
     "data": {
      "text/html": [
       "<div>\n",
       "<style scoped>\n",
       "    .dataframe tbody tr th:only-of-type {\n",
       "        vertical-align: middle;\n",
       "    }\n",
       "\n",
       "    .dataframe tbody tr th {\n",
       "        vertical-align: top;\n",
       "    }\n",
       "\n",
       "    .dataframe thead th {\n",
       "        text-align: right;\n",
       "    }\n",
       "</style>\n",
       "<table border=\"1\" class=\"dataframe\">\n",
       "  <thead>\n",
       "    <tr style=\"text-align: right;\">\n",
       "      <th></th>\n",
       "      <th>age</th>\n",
       "      <th>workclass</th>\n",
       "      <th>final-weight</th>\n",
       "      <th>education</th>\n",
       "      <th>education-num</th>\n",
       "      <th>marital-status</th>\n",
       "      <th>occupation</th>\n",
       "      <th>relationship</th>\n",
       "      <th>race</th>\n",
       "      <th>sex</th>\n",
       "      <th>capital-gain</th>\n",
       "      <th>capital-loos</th>\n",
       "      <th>hour-per-week</th>\n",
       "      <th>native-country</th>\n",
       "      <th>income</th>\n",
       "    </tr>\n",
       "  </thead>\n",
       "  <tbody>\n",
       "    <tr>\n",
       "      <th>77</th>\n",
       "      <td>67</td>\n",
       "      <td>Self-emp-not-inc</td>\n",
       "      <td>212759</td>\n",
       "      <td>10th</td>\n",
       "      <td>6</td>\n",
       "      <td>Married-civ-spouse</td>\n",
       "      <td>Other-service</td>\n",
       "      <td>Husband</td>\n",
       "      <td>White</td>\n",
       "      <td>Male</td>\n",
       "      <td>0</td>\n",
       "      <td>0</td>\n",
       "      <td>2</td>\n",
       "      <td>United-States</td>\n",
       "      <td>&lt;=50K</td>\n",
       "    </tr>\n",
       "  </tbody>\n",
       "</table>\n",
       "</div>"
      ],
      "text/plain": [
       "    age          workclass  final-weight education  education-num  \\\n",
       "77   67   Self-emp-not-inc        212759      10th              6   \n",
       "\n",
       "         marital-status      occupation relationship    race    sex  \\\n",
       "77   Married-civ-spouse   Other-service      Husband   White   Male   \n",
       "\n",
       "    capital-gain  capital-loos  hour-per-week  native-country  income  \n",
       "77             0             0              2   United-States   <=50K  "
      ]
     },
     "execution_count": 23,
     "metadata": {},
     "output_type": "execute_result"
    }
   ],
   "source": [
    "data.iloc[[77]]"
   ]
  },
  {
   "cell_type": "markdown",
   "id": "d5524b18-f159-49a1-9e25-d63c662c3602",
   "metadata": {},
   "source": [
    "Aqui optamos pela classe other-service para por se tratar de uma classe que cobre praticamentos todos os caso. Ela é genérica o bastante para podermos usar como coringa. "
   ]
  },
  {
   "cell_type": "markdown",
   "id": "b110318d-0c84-45c9-a018-a3ca7b786231",
   "metadata": {},
   "source": [
    "Vamos agora ver se homens ganham mais que mulheres na média."
   ]
  },
  {
   "cell_type": "code",
   "execution_count": 24,
   "id": "ecbcc20b-2b16-4ba1-8861-8cc6862e8adf",
   "metadata": {},
   "outputs": [],
   "source": [
    "homes = data.loc[data['sex'] == ' Male']\n",
    "mulheres = data.loc[data['sex'] == ' Female']"
   ]
  },
  {
   "cell_type": "code",
   "execution_count": 25,
   "id": "b5b6f03c-1a5a-4225-9dc3-0782b5be69cc",
   "metadata": {},
   "outputs": [
    {
     "data": {
      "text/plain": [
       "age               6662\n",
       "workclass         6662\n",
       "final-weight      6662\n",
       "education         6662\n",
       "education-num     6662\n",
       "marital-status    6662\n",
       "occupation        6662\n",
       "relationship      6662\n",
       "race              6662\n",
       "sex               6662\n",
       "capital-gain      6662\n",
       "capital-loos      6662\n",
       "hour-per-week     6662\n",
       "native-country    6662\n",
       "income            6662\n",
       "dtype: int64"
      ]
     },
     "execution_count": 25,
     "metadata": {},
     "output_type": "execute_result"
    }
   ],
   "source": [
    "homes.loc[data['income'] == ' >50K'].count()"
   ]
  },
  {
   "cell_type": "markdown",
   "id": "4e85fcca-189f-4a89-a268-f8355c7a5a01",
   "metadata": {},
   "source": [
    "Repare que homens acima de 50K ao ano temos 6.662 vamos ver as mulheres"
   ]
  },
  {
   "cell_type": "code",
   "execution_count": 26,
   "id": "27e40cc9-4ee5-434e-9302-eff0d0610704",
   "metadata": {},
   "outputs": [
    {
     "data": {
      "text/plain": [
       "age               1179\n",
       "workclass         1179\n",
       "final-weight      1179\n",
       "education         1179\n",
       "education-num     1179\n",
       "marital-status    1179\n",
       "occupation        1179\n",
       "relationship      1179\n",
       "race              1179\n",
       "sex               1179\n",
       "capital-gain      1179\n",
       "capital-loos      1179\n",
       "hour-per-week     1179\n",
       "native-country    1179\n",
       "income            1179\n",
       "dtype: int64"
      ]
     },
     "execution_count": 26,
     "metadata": {},
     "output_type": "execute_result"
    }
   ],
   "source": [
    "mulheres.loc[data['income'] == ' >50K'].count()"
   ]
  },
  {
   "cell_type": "markdown",
   "id": "844909de-96e0-401d-b5d1-dea9eb286a46",
   "metadata": {},
   "source": [
    "As mulheres representa apenas 1.179 vamos ver a porcentagem de mulheres que ganham acima de 50K"
   ]
  },
  {
   "cell_type": "code",
   "execution_count": 27,
   "id": "795ecaac-93ad-4188-a823-549f2f48457a",
   "metadata": {},
   "outputs": [
    {
     "data": {
      "text/plain": [
       "15.036347404667772"
      ]
     },
     "execution_count": 27,
     "metadata": {},
     "output_type": "execute_result"
    }
   ],
   "source": [
    "1179/(6662+1179) * 100"
   ]
  },
  {
   "cell_type": "markdown",
   "id": "45993e9b-1338-4ca7-aa8f-e8c3833ea1a7",
   "metadata": {},
   "source": [
    "Olha mesmo as mulheres sendo metade da base de dados ela corresponde a 15,07% mesmo se duplicarmos esse número acaba sendo menor que os 50% então mesmo com a menor as mulheres ganham menos que as mulheres."
   ]
  },
  {
   "cell_type": "markdown",
   "id": "e9bcbe5e-d9d0-4cad-8b4d-f24c687eb8da",
   "metadata": {},
   "source": [
    "Vamos salvar os dados modificados e ir para os modelos de classificação."
   ]
  },
  {
   "cell_type": "code",
   "execution_count": 28,
   "id": "3e53db42-bf81-46c8-b66f-5926afc154ee",
   "metadata": {},
   "outputs": [],
   "source": [
    "data.to_parquet('../data/census.parquet')"
   ]
  },
  {
   "cell_type": "markdown",
   "id": "48c14acd-a1d2-43e0-aa16-9d66ad07f1c1",
   "metadata": {},
   "source": [
    "Salvamos em formato parquet para economizar os dados em memória, isso é bom para quando um sistema crescer em armazenamento. "
   ]
  }
 ],
 "metadata": {
  "kernelspec": {
   "display_name": "Python 3 (ipykernel)",
   "language": "python",
   "name": "python3"
  },
  "language_info": {
   "codemirror_mode": {
    "name": "ipython",
    "version": 3
   },
   "file_extension": ".py",
   "mimetype": "text/x-python",
   "name": "python",
   "nbconvert_exporter": "python",
   "pygments_lexer": "ipython3",
   "version": "3.12.2"
  }
 },
 "nbformat": 4,
 "nbformat_minor": 5
}
